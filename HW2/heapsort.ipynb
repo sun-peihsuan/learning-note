{
 "cells": [
  {
   "cell_type": "code",
   "execution_count": 24,
   "metadata": {},
   "outputs": [],
   "source": [
    " s=[]\n",
    "def h(gg):\n",
    "    n=len(gg)\n",
    "   \n",
    "    for i in range(n,-1,-1):\n",
    "        f=i\n",
    "        l=(i*2)+1\n",
    "        r=(i*2)+2\n",
    "        if l<n:\n",
    "            if gg[f]>gg[l]:\n",
    "                gg[f],gg[l]=gg[l],gg[f]\n",
    "        if r<n:\n",
    "            if gg[f]>gg[r]:\n",
    "                gg[f],gg[r]=gg[r],gg[f]\n",
    "\n",
    "    s.append(gg[0])\n",
    "    gg[0]=gg[-1]\n",
    "    gg.pop(-1)\n",
    "    \n",
    "    if len(gg)>0:\n",
    "        gg=h(gg)\n",
    "        \n",
    "    return s"
   ]
  },
  {
   "cell_type": "code",
   "execution_count": 26,
   "metadata": {},
   "outputs": [
    {
     "data": {
      "text/plain": [
       "[1, 2, 5, 6, 34, 48, 1, 2, 2, 5, 6, 34, 48]"
      ]
     },
     "execution_count": 26,
     "metadata": {},
     "output_type": "execute_result"
    }
   ],
   "source": [
    "gg=[48,1,5,2,6,34,2]\n",
    "h(gg)"
   ]
  },
  {
   "cell_type": "code",
   "execution_count": null,
   "metadata": {},
   "outputs": [],
   "source": []
  },
  {
   "cell_type": "code",
   "execution_count": null,
   "metadata": {},
   "outputs": [],
   "source": []
  },
  {
   "cell_type": "code",
   "execution_count": null,
   "metadata": {},
   "outputs": [],
   "source": []
  },
  {
   "cell_type": "code",
   "execution_count": null,
   "metadata": {},
   "outputs": [],
   "source": []
  },
  {
   "cell_type": "code",
   "execution_count": null,
   "metadata": {},
   "outputs": [],
   "source": []
  }
 ],
 "metadata": {
  "kernelspec": {
   "display_name": "Python 3",
   "language": "python",
   "name": "python3"
  },
  "language_info": {
   "codemirror_mode": {
    "name": "ipython",
    "version": 3
   },
   "file_extension": ".py",
   "mimetype": "text/x-python",
   "name": "python",
   "nbconvert_exporter": "python",
   "pygments_lexer": "ipython3",
   "version": "3.7.3"
  }
 },
 "nbformat": 4,
 "nbformat_minor": 4
}
