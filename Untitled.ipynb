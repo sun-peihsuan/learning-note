{
 "cells": [
  {
   "cell_type": "code",
   "execution_count": 36,
   "metadata": {},
   "outputs": [],
   "source": [
    "def quicksort(gg):\n",
    "    pivot=[]\n",
    "    smaller=[]\n",
    "    bigger=[]\n",
    "    \n",
    "    if len(gg)<=1:\n",
    "        return gg\n",
    "    else:\n",
    "        pivot1=gg[0] ##如果gg有大於一個數，取第一位當基準點\n",
    "    \n",
    "    for i in gg:\n",
    "        if i < pivot1:\n",
    "            smaller.append(i) ##比基準點小，加進去smaller\n",
    "        elif i > pivot1:\n",
    "            bigger.append(i) ##比基準點大，加進去bigger\n",
    "        else:\n",
    "            pivot.append(i) ##把基準點加進去pivot\n",
    "            \n",
    "    smaller=quicksort(smaller) ##將smaller裡的數，再跑一次quicksort\n",
    "    bigger=quicksort(bigger) ##將bigger裡的數，再跑一次quicksort\n",
    "    \n",
    "    return smaller+pivot+bigger"
   ]
  },
  {
   "cell_type": "code",
   "execution_count": 43,
   "metadata": {},
   "outputs": [],
   "source": [
    "list1=[2,5,6,3,7]"
   ]
  },
  {
   "cell_type": "code",
   "execution_count": 44,
   "metadata": {},
   "outputs": [
    {
     "name": "stdout",
     "output_type": "stream",
     "text": [
      "[2, 3, 5, 6, 7]\n"
     ]
    }
   ],
   "source": [
    "print(quicksort(list1))"
   ]
  },
  {
   "cell_type": "code",
   "execution_count": null,
   "metadata": {},
   "outputs": [],
   "source": []
  }
 ],
 "metadata": {
  "kernelspec": {
   "display_name": "Python 3",
   "language": "python",
   "name": "python3"
  },
  "language_info": {
   "codemirror_mode": {
    "name": "ipython",
    "version": 3
   },
   "file_extension": ".py",
   "mimetype": "text/x-python",
   "name": "python",
   "nbconvert_exporter": "python",
   "pygments_lexer": "ipython3",
   "version": "3.7.3"
  }
 },
 "nbformat": 4,
 "nbformat_minor": 4
}
